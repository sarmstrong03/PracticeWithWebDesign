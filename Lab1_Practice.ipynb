{
  "nbformat": 4,
  "nbformat_minor": 0,
  "metadata": {
    "colab": {
      "name": "Lab1 Practice.ipynb",
      "provenance": [],
      "collapsed_sections": [],
      "authorship_tag": "ABX9TyPLMHx/LcJ9Veihzcs3YoAV",
      "include_colab_link": true
    },
    "kernelspec": {
      "name": "python3",
      "display_name": "Python 3"
    }
  },
  "cells": [
    {
      "cell_type": "markdown",
      "metadata": {
        "id": "view-in-github",
        "colab_type": "text"
      },
      "source": [
        "<a href=\"https://colab.research.google.com/github/sarmstrong03/PracticeWithWebDesign/blob/master/Lab1_Practice.ipynb\" target=\"_parent\"><img src=\"https://colab.research.google.com/assets/colab-badge.svg\" alt=\"Open In Colab\"/></a>"
      ]
    },
    {
      "cell_type": "markdown",
      "metadata": {
        "id": "rjYrEMVFu8LB",
        "colab_type": "text"
      },
      "source": [
        "## Do you like using Jupyter Notebooks?"
      ]
    },
    {
      "cell_type": "markdown",
      "metadata": {
        "id": "Vir85WgtvIeK",
        "colab_type": "text"
      },
      "source": [
        "Yes I do."
      ]
    },
    {
      "cell_type": "markdown",
      "metadata": {
        "id": "Maa7nBZ8vNOJ",
        "colab_type": "text"
      },
      "source": [
        "## What do you want to learn more abobut in Jupyter Notebooks?"
      ]
    },
    {
      "cell_type": "markdown",
      "metadata": {
        "id": "v4fbKUJxvkpo",
        "colab_type": "text"
      },
      "source": [
        "My answer"
      ]
    },
    {
      "cell_type": "markdown",
      "metadata": {
        "id": "zZrhYTqIvoUQ",
        "colab_type": "text"
      },
      "source": [
        "![Astronaut with balloons](https://raw.githubusercontent.com/sarmstrong03/PracticeWithWebDesign/master/images/Astronaut%20balloons.jpg)"
      ]
    }
  ]
}