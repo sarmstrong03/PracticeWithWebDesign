{
  "nbformat": 4,
  "nbformat_minor": 0,
  "metadata": {
    "colab": {
      "name": "LabNotebook1.ipynb",
      "provenance": [],
      "collapsed_sections": [],
      "authorship_tag": "ABX9TyP73B1hQf79iixoFtLwYOv4",
      "include_colab_link": true
    },
    "kernelspec": {
      "name": "python3",
      "display_name": "Python 3"
    }
  },
  "cells": [
    {
      "cell_type": "markdown",
      "metadata": {
        "id": "view-in-github",
        "colab_type": "text"
      },
      "source": [
        "<a href=\"https://colab.research.google.com/github/sarmstrong03/PracticeWithWebDesign/blob/master/LabNotebook1.ipynb\" target=\"_parent\"><img src=\"https://colab.research.google.com/assets/colab-badge.svg\" alt=\"Open In Colab\"/></a>"
      ]
    },
    {
      "cell_type": "markdown",
      "metadata": {
        "id": "CKHHhiF26h6-",
        "colab_type": "text"
      },
      "source": [
        "## Do you like using Jupyter Notebooks?"
      ]
    },
    {
      "cell_type": "markdown",
      "metadata": {
        "id": "2Z4dbXG_6qBJ",
        "colab_type": "text"
      },
      "source": [
        "I have never used Jupyter Notebooks before. With this, though, I am looking foward to using it. "
      ]
    },
    {
      "cell_type": "markdown",
      "metadata": {
        "id": "PJWOlbkk7GjW",
        "colab_type": "text"
      },
      "source": [
        "## What do you want to learn more about in Jupyter Notebooks?"
      ]
    },
    {
      "cell_type": "markdown",
      "metadata": {
        "id": "BSq4hEno7ZHh",
        "colab_type": "text"
      },
      "source": [
        "First, although it sounds basic, I am excited to learn more about coding. I took one class, a basic level, freshman year of highschool and I really enjoyed the content, but my teacher was not particularly good. With that, I did not continue on the computer coding path. Hopefully with this class I will get back into the groove and experience things that I might have missed out on. "
      ]
    },
    {
      "cell_type": "markdown",
      "metadata": {
        "id": "gY-4eqzE9n98",
        "colab_type": "text"
      },
      "source": [
        "![Dog](https://raw.githubusercontent.com/sarmstrong03/PracticeWithWebDesign/master/images/IMG_3829.jpg)"
      ]
    }
  ]
}